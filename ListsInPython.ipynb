{
    "cells": [
        {
            "cell_type": "markdown",
            "metadata": {},
            "source": "# Lists"
        },
        {
            "cell_type": "markdown",
            "metadata": {},
            "source": "### Indexing"
        },
        {
            "cell_type": "code",
            "execution_count": 2,
            "metadata": {
                "scrolled": true
            },
            "outputs": [
                {
                    "data": {
                        "text/plain": "['Elon Musk', 1.6, 1999]"
                    },
                    "execution_count": 2,
                    "metadata": {},
                    "output_type": "execute_result"
                }
            ],
            "source": "# Create a list\n\nL = [\"Elon Musk\", 1.6, 1999]\nL"
        },
        {
            "cell_type": "code",
            "execution_count": 3,
            "metadata": {},
            "outputs": [
                {
                    "data": {
                        "text/plain": "'Elon Musk'"
                    },
                    "execution_count": 3,
                    "metadata": {},
                    "output_type": "execute_result"
                }
            ],
            "source": "L[0]"
        },
        {
            "cell_type": "code",
            "execution_count": 7,
            "metadata": {},
            "outputs": [
                {
                    "name": "stdout",
                    "output_type": "stream",
                    "text": "Elon Musk Elon Musk\n1.6 1.6\n1999 1999\n"
                }
            ],
            "source": "# Print the elements on each index\n\nprint (L[0], L[-3])\nprint (L[1], L[-2])\nprint (L[2], L[-1])"
        },
        {
            "cell_type": "markdown",
            "metadata": {},
            "source": "### List Content"
        },
        {
            "cell_type": "code",
            "execution_count": 10,
            "metadata": {},
            "outputs": [
                {
                    "data": {
                        "text/plain": "['Elon Musk', 1.6, 1999, [1, 2], ('A', 1)]"
                    },
                    "execution_count": 10,
                    "metadata": {},
                    "output_type": "execute_result"
                }
            ],
            "source": "# Elon Musk related list and nesting\n\nL = [\"Elon Musk\", 1.6, 1999, [1,2], (\"A\", 1)]\nL"
        },
        {
            "cell_type": "markdown",
            "metadata": {},
            "source": "### List Operations"
        },
        {
            "cell_type": "code",
            "execution_count": 11,
            "metadata": {},
            "outputs": [
                {
                    "data": {
                        "text/plain": "[[1, 2], ('A', 1)]"
                    },
                    "execution_count": 11,
                    "metadata": {},
                    "output_type": "execute_result"
                }
            ],
            "source": "# List slicing\n\nL[3:5]"
        },
        {
            "cell_type": "code",
            "execution_count": 18,
            "metadata": {},
            "outputs": [
                {
                    "data": {
                        "text/plain": "['Elon Musk', 1.6, 1999, [1, 2], ('A', 1), 'Tesla', 10]"
                    },
                    "execution_count": 18,
                    "metadata": {},
                    "output_type": "execute_result"
                }
            ],
            "source": "# List extend to add elements\nL= ['Elon Musk', 1.6, 1999, [1, 2], ('A', 1)]\nL.extend([\"Tesla\", 10])\nL"
        },
        {
            "cell_type": "code",
            "execution_count": 19,
            "metadata": {},
            "outputs": [
                {
                    "data": {
                        "text/plain": "['Elon Musk', 1.6, 1999, [1, 2], ('A', 1), ['Tesla', 10]]"
                    },
                    "execution_count": 19,
                    "metadata": {},
                    "output_type": "execute_result"
                }
            ],
            "source": "# Append to add one element to list\n\nL = ['Elon Musk', 1.6, 1999, [1, 2], ('A', 1)]\nL.append([\"Tesla\", 10])\nL"
        },
        {
            "cell_type": "code",
            "execution_count": 20,
            "metadata": {},
            "outputs": [
                {
                    "name": "stdout",
                    "output_type": "stream",
                    "text": "before change: ['Tech', 9, 1.7]\nAfter change: ['Mech', 9, 1.7]\n"
                }
            ],
            "source": "# Lists are mutable, so we will change the element based on the index\n\nZ = [\"Tech\", 9, 1.7]\nprint(\"before change:\", Z)\nZ[0]= \"Mech\"\nprint(\"After change:\", Z)"
        },
        {
            "cell_type": "code",
            "execution_count": 26,
            "metadata": {},
            "outputs": [
                {
                    "name": "stdout",
                    "output_type": "stream",
                    "text": "before change ['Tech', 9, 1.7]\nafter change [9, 1.7]\n"
                }
            ],
            "source": "# Delete elemenet using del command\n\nZ = [\"Tech\", 9, 1.7]\nprint(\"before change\", Z)\ndel(Z[0])\nprint(\"after change\", Z)"
        },
        {
            "cell_type": "code",
            "execution_count": 28,
            "metadata": {},
            "outputs": [
                {
                    "data": {
                        "text/plain": "['Mech', 'Tech']"
                    },
                    "execution_count": 28,
                    "metadata": {},
                    "output_type": "execute_result"
                }
            ],
            "source": "# Split the string\n\n\"Mech Tech\".split()"
        },
        {
            "cell_type": "code",
            "execution_count": 29,
            "metadata": {},
            "outputs": [
                {
                    "data": {
                        "text/plain": "['You', ' are', ' not', ' the father']"
                    },
                    "execution_count": 29,
                    "metadata": {},
                    "output_type": "execute_result"
                }
            ],
            "source": "# Split the string by comma, acting as the delimiter\n\n\"You, are, not, the father\".split(',')"
        },
        {
            "cell_type": "markdown",
            "metadata": {},
            "source": "### Copy and Clone List"
        },
        {
            "cell_type": "code",
            "execution_count": 30,
            "metadata": {},
            "outputs": [
                {
                    "name": "stdout",
                    "output_type": "stream",
                    "text": "A: ['Diet Soda', 5, 9]\nB: ['Diet Soda', 5, 9]\n"
                }
            ],
            "source": "# Set variable B equal to A, both A and B reference same list\n\nA = ['Diet Soda', 5, 9]\nB = A\nprint(\"A:\", A)\nprint(\"B:\",B)"
        },
        {
            "cell_type": "code",
            "execution_count": 31,
            "metadata": {},
            "outputs": [
                {
                    "name": "stdout",
                    "output_type": "stream",
                    "text": "B[0]: Diet Soda\nB[0]: Soda\n"
                }
            ],
            "source": "# Change in one variable in list A affects B\n\nprint('B[0]:', B[0])\nA[0] = \"Soda\"\nprint('B[0]:', B[0])"
        },
        {
            "cell_type": "code",
            "execution_count": 32,
            "metadata": {},
            "outputs": [
                {
                    "data": {
                        "text/plain": "['Soda', 5, 9]"
                    },
                    "execution_count": 32,
                    "metadata": {},
                    "output_type": "execute_result"
                }
            ],
            "source": "# Clone list A by using following syntax\n\nB = A[:]\nB"
        },
        {
            "cell_type": "code",
            "execution_count": 34,
            "metadata": {},
            "outputs": [
                {
                    "name": "stdout",
                    "output_type": "stream",
                    "text": "B[0]: Soda\nB[0]: Soda\n"
                }
            ],
            "source": "# Now that B is cloned from list A, a change in A will not affect B\n\nprint('B[0]:', B[0])\nA[0] = \"hard candy\"\nprint('B[0]:', B[0])"
        },
        {
            "cell_type": "code",
            "execution_count": null,
            "metadata": {},
            "outputs": [],
            "source": ""
        }
    ],
    "metadata": {
        "kernelspec": {
            "display_name": "Python 3.9",
            "language": "python",
            "name": "python3"
        },
        "language_info": {
            "codemirror_mode": {
                "name": "ipython",
                "version": 3
            },
            "file_extension": ".py",
            "mimetype": "text/x-python",
            "name": "python",
            "nbconvert_exporter": "python",
            "pygments_lexer": "ipython3",
            "version": "3.9.7"
        }
    },
    "nbformat": 4,
    "nbformat_minor": 1
}